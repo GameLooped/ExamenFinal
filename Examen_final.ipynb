{
  "nbformat": 4,
  "nbformat_minor": 0,
  "metadata": {
    "colab": {
      "provenance": [],
      "authorship_tag": "ABX9TyObUr8NZwcjvvkoPkaUH4xh",
      "include_colab_link": true
    },
    "kernelspec": {
      "name": "python3",
      "display_name": "Python 3"
    },
    "language_info": {
      "name": "python"
    }
  },
  "cells": [
    {
      "cell_type": "markdown",
      "metadata": {
        "id": "view-in-github",
        "colab_type": "text"
      },
      "source": [
        "<a href=\"https://colab.research.google.com/github/GameLooped/ExamenFinal/blob/main/Examen_final.ipynb\" target=\"_parent\"><img src=\"https://colab.research.google.com/assets/colab-badge.svg\" alt=\"Open In Colab\"/></a>"
      ]
    },
    {
      "cell_type": "markdown",
      "source": [
        "Parte 1"
      ],
      "metadata": {
        "id": "odF-Q0tzgefA"
      }
    },
    {
      "cell_type": "code",
      "execution_count": 7,
      "metadata": {
        "colab": {
          "base_uri": "https://localhost:8080/"
        },
        "id": "LJJHwyEqftxE",
        "outputId": "5fe0a389-14df-4a0e-9356-1a760650fc33"
      },
      "outputs": [
        {
          "output_type": "stream",
          "name": "stdout",
          "text": [
            "[ 1  2  3  4  5  6  7  8  9 10 11 12 13 14 15 16 17 18 19 20]\n"
          ]
        }
      ],
      "source": [
        "import numpy as np\n",
        "\n",
        "arreglo = np.arange(1, 21)\n",
        "\n",
        "print(arreglo)"
      ]
    },
    {
      "cell_type": "code",
      "source": [
        "multiplos_de_3 = arreglo[arreglo % 3 == 0]\n",
        "\n",
        "print(multiplos_de_3)"
      ],
      "metadata": {
        "colab": {
          "base_uri": "https://localhost:8080/"
        },
        "id": "FTtrJrl-gjz3",
        "outputId": "545008a1-613e-41f4-defd-b1ba33d7f846"
      },
      "execution_count": 8,
      "outputs": [
        {
          "output_type": "stream",
          "name": "stdout",
          "text": [
            "[ 3  6  9 12 15 18]\n"
          ]
        }
      ]
    },
    {
      "cell_type": "code",
      "source": [
        "num_aleatorios = np.random.rand(5, 5)\n",
        "\n",
        "print(num_aleatorios)"
      ],
      "metadata": {
        "colab": {
          "base_uri": "https://localhost:8080/"
        },
        "id": "tFq6DcHMhKgH",
        "outputId": "72063cab-8990-48bf-f8d2-4661e0f40147"
      },
      "execution_count": 20,
      "outputs": [
        {
          "output_type": "stream",
          "name": "stdout",
          "text": [
            "[[0.15885526 0.85417104 0.77036144 0.34617806 0.1181759 ]\n",
            " [0.11011032 0.80462951 0.83159016 0.91682961 0.48643347]\n",
            " [0.62383315 0.24630441 0.5393284  0.5455691  0.9379289 ]\n",
            " [0.29323854 0.59123955 0.70118104 0.97838253 0.86961435]\n",
            " [0.8929541  0.43879896 0.61321515 0.04338362 0.77299379]]\n"
          ]
        }
      ]
    },
    {
      "cell_type": "code",
      "source": [
        "media = num_aleatorios.mean()\n",
        "desviacion_estandar = num_aleatorios.std()\n",
        "valor_maximo = num_aleatorios.max()\n",
        "\n",
        "print(f\"Media: {media}\")\n",
        "print(f\"Desviación Estándar: {desviacion_estandar}\")\n",
        "print(f\"Valor Máximo: {valor_maximo}\")"
      ],
      "metadata": {
        "colab": {
          "base_uri": "https://localhost:8080/"
        },
        "id": "Xheh1aM1hY9H",
        "outputId": "132ae265-c0cc-487e-c327-a4f846791ffb"
      },
      "execution_count": 15,
      "outputs": [
        {
          "output_type": "stream",
          "name": "stdout",
          "text": [
            "Media: 0.535078333787449\n",
            "Desviación Estándar: 0.27484656896995546\n",
            "Valor Máximo: 0.9952442595508969\n"
          ]
        }
      ]
    },
    {
      "cell_type": "code",
      "source": [
        "vector = num_aleatorios.flatten()\n",
        "\n",
        "print(vector)"
      ],
      "metadata": {
        "colab": {
          "base_uri": "https://localhost:8080/"
        },
        "id": "1y_KL1OIhjcu",
        "outputId": "3269ecd3-abb0-40d9-aca3-89d2c8bb0bb5"
      },
      "execution_count": 21,
      "outputs": [
        {
          "output_type": "stream",
          "name": "stdout",
          "text": [
            "[0.15885526 0.85417104 0.77036144 0.34617806 0.1181759  0.11011032\n",
            " 0.80462951 0.83159016 0.91682961 0.48643347 0.62383315 0.24630441\n",
            " 0.5393284  0.5455691  0.9379289  0.29323854 0.59123955 0.70118104\n",
            " 0.97838253 0.86961435 0.8929541  0.43879896 0.61321515 0.04338362\n",
            " 0.77299379]\n"
          ]
        }
      ]
    },
    {
      "cell_type": "markdown",
      "source": [
        "Parte 2"
      ],
      "metadata": {
        "id": "QqOVs7Mphx2P"
      }
    },
    {
      "cell_type": "code",
      "source": [
        "import pandas as pd\n",
        "\n",
        "datos_estudiantes = {\n",
        "    'Nombre': ['Ana', 'Luis', 'María', 'Pedro', 'Sofía'],\n",
        "    'Edad': [20, 21, 19, 22, 20],\n",
        "    'Nota Matemáticas': [18, 15, 16, 12, 19],\n",
        "    'Nota IA': [17, 14, 18, 13, 20]\n",
        "}\n",
        "\n",
        "df_estudiantes = pd.DataFrame(datos_estudiantes)\n",
        "print(df_estudiantes)"
      ],
      "metadata": {
        "colab": {
          "base_uri": "https://localhost:8080/"
        },
        "id": "75P-BExChzsu",
        "outputId": "11ba85d4-cb1a-490e-ae1d-383e525bcf98"
      },
      "execution_count": 23,
      "outputs": [
        {
          "output_type": "stream",
          "name": "stdout",
          "text": [
            "  Nombre  Edad  Nota Matemáticas  Nota IA\n",
            "0    Ana    20                18       17\n",
            "1   Luis    21                15       14\n",
            "2  María    19                16       18\n",
            "3  Pedro    22                12       13\n",
            "4  Sofía    20                19       20\n"
          ]
        }
      ]
    },
    {
      "cell_type": "code",
      "source": [
        "promedios_numericos = df_estudiantes.select_dtypes(include='number').mean()\n",
        "print(promedios_numericos)"
      ],
      "metadata": {
        "colab": {
          "base_uri": "https://localhost:8080/"
        },
        "id": "pRIgbLs6iLTF",
        "outputId": "22a541f4-cabd-4c84-f281-9241a828606b"
      },
      "execution_count": 25,
      "outputs": [
        {
          "output_type": "stream",
          "name": "stdout",
          "text": [
            "Edad                20.4\n",
            "Nota Matemáticas    16.0\n",
            "Nota IA             16.4\n",
            "dtype: float64\n"
          ]
        }
      ]
    },
    {
      "cell_type": "code",
      "source": [
        "estudiantes_filtrados = df_estudiantes[df_estudiantes['Nota IA'] > 15]\n",
        "print(estudiantes_filtrados)"
      ],
      "metadata": {
        "colab": {
          "base_uri": "https://localhost:8080/"
        },
        "id": "fmoBR1y7iaVU",
        "outputId": "c422be3d-804f-4992-d8ae-d998eca6be1e"
      },
      "execution_count": 28,
      "outputs": [
        {
          "output_type": "stream",
          "name": "stdout",
          "text": [
            "  Nombre  Edad  Nota Matemáticas  Nota IA  Promedio\n",
            "0    Ana    20                18       17      17.5\n",
            "2  María    19                16       18      17.0\n",
            "4  Sofía    20                19       20      19.5\n"
          ]
        }
      ]
    },
    {
      "cell_type": "code",
      "source": [
        "df_estudiantes['Promedio'] = df_estudiantes[['Nota Matemáticas', 'Nota IA']].mean(axis=1)\n",
        "print(df_estudiantes)"
      ],
      "metadata": {
        "colab": {
          "base_uri": "https://localhost:8080/"
        },
        "id": "z81JUV2_imGl",
        "outputId": "a2e9410a-c16f-45f6-fdf6-69bfc33d09c4"
      },
      "execution_count": 29,
      "outputs": [
        {
          "output_type": "stream",
          "name": "stdout",
          "text": [
            "  Nombre  Edad  Nota Matemáticas  Nota IA  Promedio\n",
            "0    Ana    20                18       17      17.5\n",
            "1   Luis    21                15       14      14.5\n",
            "2  María    19                16       18      17.0\n",
            "3  Pedro    22                12       13      12.5\n",
            "4  Sofía    20                19       20      19.5\n"
          ]
        }
      ]
    },
    {
      "cell_type": "code",
      "source": [
        "df_ordenado = df_estudiantes.sort_values(by='Promedio', ascending=False)\n",
        "print(df_ordenado)"
      ],
      "metadata": {
        "colab": {
          "base_uri": "https://localhost:8080/"
        },
        "id": "_FhQX87Vi238",
        "outputId": "60f17a8f-341a-44be-86a1-ce8caaa7342b"
      },
      "execution_count": 30,
      "outputs": [
        {
          "output_type": "stream",
          "name": "stdout",
          "text": [
            "  Nombre  Edad  Nota Matemáticas  Nota IA  Promedio\n",
            "4  Sofía    20                19       20      19.5\n",
            "0    Ana    20                18       17      17.5\n",
            "2  María    19                16       18      17.0\n",
            "1   Luis    21                15       14      14.5\n",
            "3  Pedro    22                12       13      12.5\n"
          ]
        }
      ]
    },
    {
      "cell_type": "markdown",
      "source": [
        "Parte 3"
      ],
      "metadata": {
        "id": "ekOp8SHwi80t"
      }
    },
    {
      "cell_type": "code",
      "source": [
        "def analizar_lista(numeros):\n",
        "    if not numeros:\n",
        "        return None, None, None\n",
        "\n",
        "    mayor = max(numeros)\n",
        "    menor = min(numeros)\n",
        "    promedio = sum(numeros) / len(numeros)\n",
        "\n",
        "    return mayor, menor, promedio\n",
        "\n",
        "mi_lista = [45, 40, 8, 22, 70, 11]\n",
        "num_mayor, num_menor, promedio = analizar_lista(mi_lista)\n",
        "\n",
        "print(f\"Lista original: {mi_lista}\")\n",
        "print(f\"Número mayor: {num_mayor}\")\n",
        "print(f\"Número menor: {num_menor}\")\n",
        "print(f\"Promedio: {promedio}\")"
      ],
      "metadata": {
        "colab": {
          "base_uri": "https://localhost:8080/"
        },
        "id": "6rjIIpxOi_hs",
        "outputId": "caec3aa7-a8cd-4ef0-8542-e55acb762c37"
      },
      "execution_count": 40,
      "outputs": [
        {
          "output_type": "stream",
          "name": "stdout",
          "text": [
            "Lista original: [45, 40, 8, 22, 70, 11]\n",
            "Número mayor: 70\n",
            "Número menor: 8\n",
            "Promedio: 32.666666666666664\n"
          ]
        }
      ]
    },
    {
      "cell_type": "code",
      "source": [
        "import numpy as np\n",
        "\n",
        "def sigmoide(x):\n",
        "\n",
        "  return 1 / (1 + np.exp(-x))\n",
        "\n",
        "x = np.array([-2, -1, 0, 1, 2])\n",
        "\n",
        "resultado_sigmoide = sigmoide(x)\n",
        "\n",
        "print(f\"Arreglo original: {x}\")\n",
        "print(f\"Resultado de la función Sigmoide: {resultado_sigmoide}\")"
      ],
      "metadata": {
        "colab": {
          "base_uri": "https://localhost:8080/"
        },
        "id": "rogwRHVskQMT",
        "outputId": "2ebaaf41-96bc-460d-a7bb-45abb78eaa6e"
      },
      "execution_count": 44,
      "outputs": [
        {
          "output_type": "stream",
          "name": "stdout",
          "text": [
            "Arreglo original: [-2 -1  0  1  2]\n",
            "Resultado de la función Sigmoide: [0.11920292 0.26894142 0.5        0.73105858 0.88079708]\n"
          ]
        }
      ]
    },
    {
      "cell_type": "code",
      "source": [
        "import pandas as pd\n",
        "datos_estudiantes = {\n",
        "    'Nombre': ['Ana', 'Luis', 'María', 'Pedro', 'Sofía'], 'Edad': [20, 21, 19, 22, 20],\n",
        "    'Nota Matemáticas': [18, 15, 16, 12, 19], 'Nota IA': [17, 14, 18, 13, 20]\n",
        "}\n",
        "df_estudiantes = pd.DataFrame(datos_estudiantes)\n",
        "df_estudiantes['Promedio'] = df_estudiantes[['Nota Matemáticas', 'Nota IA']].mean(axis=1)\n",
        "\n",
        "def clasificar_estado(promedio):\n",
        "    if promedio >= 14:\n",
        "        return \"Aprobado\"\n",
        "    else:\n",
        "        return \"Desaprobado\"\n",
        "\n",
        "df_estudiantes['Estado'] = df_estudiantes['Promedio'].apply(clasificar_estado)\n",
        "\n",
        "print(df_estudiantes)"
      ],
      "metadata": {
        "colab": {
          "base_uri": "https://localhost:8080/"
        },
        "id": "XoOnGJwCkkP0",
        "outputId": "e1051408-9d18-46dd-940f-ee8700a6412e"
      },
      "execution_count": 46,
      "outputs": [
        {
          "output_type": "stream",
          "name": "stdout",
          "text": [
            "  Nombre  Edad  Nota Matemáticas  Nota IA  Promedio       Estado\n",
            "0    Ana    20                18       17      17.5     Aprobado\n",
            "1   Luis    21                15       14      14.5     Aprobado\n",
            "2  María    19                16       18      17.0     Aprobado\n",
            "3  Pedro    22                12       13      12.5  Desaprobado\n",
            "4  Sofía    20                19       20      19.5     Aprobado\n"
          ]
        }
      ]
    },
    {
      "cell_type": "markdown",
      "source": [
        "Parte 4"
      ],
      "metadata": {
        "id": "-sjKJKhNlIH8"
      }
    },
    {
      "cell_type": "code",
      "source": [
        "import pandas as pd\n",
        "\n",
        "datos = {\n",
        "    'Producto': ['A', 'B', 'C', 'D', 'E'],\n",
        "    'Ventas_2024': [120, 340, 560, 230, 150],\n",
        "    'Ventas_2025': [200, 400, 600, 300, 180]\n",
        "}\n",
        "df = pd.DataFrame(datos)\n",
        "df['Crecimiento'] = ((df['Ventas_2025'] - df['Ventas_2024']) / df['Ventas_2024']) * 100\n",
        "print(df)"
      ],
      "metadata": {
        "colab": {
          "base_uri": "https://localhost:8080/"
        },
        "id": "yWlwYxkGlKfL",
        "outputId": "c54819e2-3020-4076-9afe-6ef52fd4ae62"
      },
      "execution_count": 48,
      "outputs": [
        {
          "output_type": "stream",
          "name": "stdout",
          "text": [
            "  Producto  Ventas_2024  Ventas_2025  Crecimiento\n",
            "0        A          120          200    66.666667\n",
            "1        B          340          400    17.647059\n",
            "2        C          560          600     7.142857\n",
            "3        D          230          300    30.434783\n",
            "4        E          150          180    20.000000\n"
          ]
        }
      ]
    },
    {
      "cell_type": "code",
      "source": [
        "indice_max_crecimiento = df['Crecimiento'].idxmax()\n",
        "producto_mayor_crecimiento = df.loc[indice_max_crecimiento]\n",
        "\n",
        "print(\"El producto con mayor crecimiento es:\")\n",
        "print(producto_mayor_crecimiento)"
      ],
      "metadata": {
        "colab": {
          "base_uri": "https://localhost:8080/"
        },
        "id": "AmoOA8Z-lpuM",
        "outputId": "1f687e23-8a12-4eeb-ebad-e54940e4f644"
      },
      "execution_count": 50,
      "outputs": [
        {
          "output_type": "stream",
          "name": "stdout",
          "text": [
            "El producto con mayor crecimiento es:\n",
            "Producto               A\n",
            "Ventas_2024          120\n",
            "Ventas_2025          200\n",
            "Crecimiento    66.666667\n",
            "Name: 0, dtype: object\n"
          ]
        }
      ]
    },
    {
      "cell_type": "markdown",
      "source": [
        "Parte 5"
      ],
      "metadata": {
        "id": "9-Q-13RFnBIj"
      }
    },
    {
      "cell_type": "code",
      "source": [
        "def resolver_ecuacion_primer_grado(a, b):\n",
        "\n",
        "    if a == 0:\n",
        "        if b == 0:\n",
        "            return \"La ecuación tiene infinitas soluciones.\"\n",
        "        else:\n",
        "            return \"La ecuación no tiene solución.\"\n",
        "    else:\n",
        "        x = -b / a\n",
        "        return x\n",
        "\n",
        "a = 2\n",
        "b = 4\n",
        "solucion = resolver_ecuacion_primer_grado(a, b)\n",
        "print(f\"La solución para la ecuación {a}x + {b} = 0 es x = {solucion}\")"
      ],
      "metadata": {
        "colab": {
          "base_uri": "https://localhost:8080/"
        },
        "id": "we6mXDf7nClx",
        "outputId": "6a6ff495-8a62-4082-8fe3-6c8da917bdd4"
      },
      "execution_count": 55,
      "outputs": [
        {
          "output_type": "stream",
          "name": "stdout",
          "text": [
            "La solución para la ecuación 2x + 4 = 0 es x = -2.0\n"
          ]
        }
      ]
    },
    {
      "cell_type": "code",
      "source": [
        "import numpy as np\n",
        "\n",
        "def resolver_ecuacion_segundo_grado(a, b, c):\n",
        "    if a == 0:\n",
        "        return \"El coeficiente 'a' no puede ser cero para una ecuación de segundo grado.\"\n",
        "\n",
        "    discriminante = (b**2) - (4*a*c)\n",
        "\n",
        "    x1 = (-b - np.sqrt(discriminante + 0j)) / (2 * a)\n",
        "    x2 = (-b + np.sqrt(discriminante + 0j)) / (2 * a)\n",
        "\n",
        "    return x1, x2\n",
        "\n",
        "a = 1\n",
        "b = 2\n",
        "c = 5\n",
        "solucion1, solucion2 = resolver_ecuacion_segundo_grado(a, b, c)\n",
        "\n",
        "print(f\"Las soluciones para la ecuación {a}x^2 + {b}x + {c} = 0 son:\")\n",
        "print(f\"x1 = {solucion1}\")\n",
        "print(f\"x2 = {solucion2}\")"
      ],
      "metadata": {
        "colab": {
          "base_uri": "https://localhost:8080/"
        },
        "id": "0u55UkNbo4-a",
        "outputId": "646ecfe6-5923-4f50-d228-b11395c237bd"
      },
      "execution_count": 57,
      "outputs": [
        {
          "output_type": "stream",
          "name": "stdout",
          "text": [
            "Las soluciones para la ecuación 1x^2 + 2x + 5 = 0 son:\n",
            "x1 = (-1-2j)\n",
            "x2 = (-1+2j)\n"
          ]
        }
      ]
    }
  ]
}